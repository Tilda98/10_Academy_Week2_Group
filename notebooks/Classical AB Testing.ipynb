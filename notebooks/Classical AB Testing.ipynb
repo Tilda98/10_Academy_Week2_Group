{
 "cells": [
  {
   "cell_type": "code",
   "execution_count": 12,
   "id": "35cb5854",
   "metadata": {},
   "outputs": [],
   "source": [
    "import pandas as pd\n",
    "import numpy as np\n",
    "import matplotlib.pyplot as plt\n",
    "import scipy\n",
    "import scipy.stats as scs"
   ]
  },
  {
   "cell_type": "code",
   "execution_count": 13,
   "id": "b13351eb",
   "metadata": {},
   "outputs": [],
   "source": [
    "#Reading data\n",
    "df =pd.read_csv('data/AdSmartABdata.csv')"
   ]
  },
  {
   "cell_type": "code",
   "execution_count": 14,
   "id": "4329f5cb",
   "metadata": {},
   "outputs": [],
   "source": [
    "# Filter out users that were not interacting\n",
    "relevant_rows = df.query('yes == 1 | no == 1')"
   ]
  },
  {
   "cell_type": "code",
   "execution_count": 15,
   "id": "33a2f0ff",
   "metadata": {},
   "outputs": [
    {
     "name": "stdout",
     "output_type": "stream",
     "text": [
      "The exposed group dataframe has 657 observations\n",
      "The control group dataframe has 586 observations\n",
      "The conversion rate in the exposed group is equal to 46.88%\n",
      "The conversion rate in the exposed group is equal to 45.05%\n"
     ]
    }
   ],
   "source": [
    "exposed = relevant_rows.query('experiment == \"exposed\"')\n",
    "control = relevant_rows.query('experiment == \"control\"')\n",
    "\n",
    "# Calculate a number of observation in both groups\n",
    "print('The exposed group dataframe has {} observations'. format(exposed.shape[0]))\n",
    "print('The control group dataframe has {} observations'. format(control.shape[0]))\n",
    "\n",
    "contr_d1 = '{0:.2f}%'.format(exposed.yes.mean()*100)\n",
    "trtm_d1 = '{0:.2f}%'.format(control.yes.mean()*100)\n",
    "print('The conversion rate in the exposed group is equal to {}'.format(contr_d1))\n",
    "print('The conversion rate in the exposed group is equal to {}'.format(trtm_d1))"
   ]
  },
  {
   "cell_type": "code",
   "execution_count": 16,
   "id": "ec080651",
   "metadata": {},
   "outputs": [
    {
     "data": {
      "text/plain": [
       "(1243, 9)"
      ]
     },
     "execution_count": 16,
     "metadata": {},
     "output_type": "execute_result"
    }
   ],
   "source": [
    "# Filter out users that were not interacting\n",
    "temp_df = df.query(\"not (yes == 0 & no == 0)\")\n",
    "temp_df.shape"
   ]
  },
  {
   "cell_type": "code",
   "execution_count": null,
   "id": "3d499969",
   "metadata": {},
   "outputs": [],
   "source": []
  },
  {
   "cell_type": "markdown",
   "id": "7a0f4e05",
   "metadata": {},
   "source": [
    "Only 1243 users out of 8077 responded to the questionaire. So we will drop users who haven't responded."
   ]
  },
  {
   "cell_type": "code",
   "execution_count": 17,
   "id": "db1e99f5",
   "metadata": {},
   "outputs": [
    {
     "name": "stderr",
     "output_type": "stream",
     "text": [
      "/tmp/ipykernel_7902/2611879631.py:2: SettingWithCopyWarning: \n",
      "A value is trying to be set on a copy of a slice from a DataFrame.\n",
      "Try using .loc[row_indexer,col_indexer] = value instead\n",
      "\n",
      "See the caveats in the documentation: https://pandas.pydata.org/pandas-docs/stable/user_guide/indexing.html#returning-a-view-versus-a-copy\n",
      "  clean_df['aware'] = 0\n",
      "/home/ermi/anaconda3/lib/python3.9/site-packages/pandas/core/indexing.py:1817: SettingWithCopyWarning: \n",
      "A value is trying to be set on a copy of a slice from a DataFrame.\n",
      "Try using .loc[row_indexer,col_indexer] = value instead\n",
      "\n",
      "See the caveats in the documentation: https://pandas.pydata.org/pandas-docs/stable/user_guide/indexing.html#returning-a-view-versus-a-copy\n",
      "  self._setitem_single_column(loc, value, pi)\n",
      "/home/ermi/anaconda3/lib/python3.9/site-packages/pandas/core/frame.py:4906: SettingWithCopyWarning: \n",
      "A value is trying to be set on a copy of a slice from a DataFrame\n",
      "\n",
      "See the caveats in the documentation: https://pandas.pydata.org/pandas-docs/stable/user_guide/indexing.html#returning-a-view-versus-a-copy\n",
      "  return super().drop(\n"
     ]
    },
    {
     "data": {
      "text/html": [
       "<div>\n",
       "<style scoped>\n",
       "    .dataframe tbody tr th:only-of-type {\n",
       "        vertical-align: middle;\n",
       "    }\n",
       "\n",
       "    .dataframe tbody tr th {\n",
       "        vertical-align: top;\n",
       "    }\n",
       "\n",
       "    .dataframe thead th {\n",
       "        text-align: right;\n",
       "    }\n",
       "</style>\n",
       "<table border=\"1\" class=\"dataframe\">\n",
       "  <thead>\n",
       "    <tr style=\"text-align: right;\">\n",
       "      <th></th>\n",
       "      <th>experiment</th>\n",
       "      <th>aware</th>\n",
       "    </tr>\n",
       "    <tr>\n",
       "      <th>auction_id</th>\n",
       "      <th></th>\n",
       "      <th></th>\n",
       "    </tr>\n",
       "  </thead>\n",
       "  <tbody>\n",
       "    <tr>\n",
       "      <th>0016d14a-ae18-4a02-a204-6ba53b52f2ed</th>\n",
       "      <td>exposed</td>\n",
       "      <td>0</td>\n",
       "    </tr>\n",
       "    <tr>\n",
       "      <th>008aafdf-deef-4482-8fec-d98e3da054da</th>\n",
       "      <td>exposed</td>\n",
       "      <td>1</td>\n",
       "    </tr>\n",
       "    <tr>\n",
       "      <th>00a1384a-5118-4d1b-925b-6cdada50318d</th>\n",
       "      <td>exposed</td>\n",
       "      <td>0</td>\n",
       "    </tr>\n",
       "    <tr>\n",
       "      <th>00b6fadb-10bd-49e3-a778-290da82f7a8d</th>\n",
       "      <td>control</td>\n",
       "      <td>1</td>\n",
       "    </tr>\n",
       "    <tr>\n",
       "      <th>00ebf4a8-060f-4b99-93ac-c62724399483</th>\n",
       "      <td>control</td>\n",
       "      <td>0</td>\n",
       "    </tr>\n",
       "    <tr>\n",
       "      <th>...</th>\n",
       "      <td>...</td>\n",
       "      <td>...</td>\n",
       "    </tr>\n",
       "    <tr>\n",
       "      <th>ffa08ff9-a132-4051-aef5-01a9c79367bc</th>\n",
       "      <td>exposed</td>\n",
       "      <td>1</td>\n",
       "    </tr>\n",
       "    <tr>\n",
       "      <th>ffb176df-ecd2-45d3-b05f-05b173a093a7</th>\n",
       "      <td>exposed</td>\n",
       "      <td>1</td>\n",
       "    </tr>\n",
       "    <tr>\n",
       "      <th>ffb79718-6f25-4896-b6b3-e58b80a6e147</th>\n",
       "      <td>control</td>\n",
       "      <td>0</td>\n",
       "    </tr>\n",
       "    <tr>\n",
       "      <th>ffca1153-c182-4f32-9e90-2a6008417497</th>\n",
       "      <td>control</td>\n",
       "      <td>0</td>\n",
       "    </tr>\n",
       "    <tr>\n",
       "      <th>ffdfdc09-48c7-4bfb-80f8-ec1eb633602b</th>\n",
       "      <td>exposed</td>\n",
       "      <td>0</td>\n",
       "    </tr>\n",
       "  </tbody>\n",
       "</table>\n",
       "<p>1243 rows × 2 columns</p>\n",
       "</div>"
      ],
      "text/plain": [
       "                                     experiment  aware\n",
       "auction_id                                            \n",
       "0016d14a-ae18-4a02-a204-6ba53b52f2ed    exposed      0\n",
       "008aafdf-deef-4482-8fec-d98e3da054da    exposed      1\n",
       "00a1384a-5118-4d1b-925b-6cdada50318d    exposed      0\n",
       "00b6fadb-10bd-49e3-a778-290da82f7a8d    control      1\n",
       "00ebf4a8-060f-4b99-93ac-c62724399483    control      0\n",
       "...                                         ...    ...\n",
       "ffa08ff9-a132-4051-aef5-01a9c79367bc    exposed      1\n",
       "ffb176df-ecd2-45d3-b05f-05b173a093a7    exposed      1\n",
       "ffb79718-6f25-4896-b6b3-e58b80a6e147    control      0\n",
       "ffca1153-c182-4f32-9e90-2a6008417497    control      0\n",
       "ffdfdc09-48c7-4bfb-80f8-ec1eb633602b    exposed      0\n",
       "\n",
       "[1243 rows x 2 columns]"
      ]
     },
     "execution_count": 17,
     "metadata": {},
     "output_type": "execute_result"
    }
   ],
   "source": [
    "clean_df = temp_df[['auction_id', 'experiment', 'yes', 'no']]\n",
    "clean_df['aware'] = 0\n",
    "clean_df.loc[clean_df['yes'] == 1, 'aware'] = 1\n",
    "clean_df.loc[clean_df['yes'] == 0, 'aware'] = 0\n",
    "clean_df.drop(columns=['yes', 'no'], inplace=True)\n",
    "clean_df = clean_df.set_index('auction_id')\n",
    "clean_df"
   ]
  },
  {
   "cell_type": "markdown",
   "id": "c8ce24dc",
   "metadata": {},
   "source": [
    "The aware column indicates whether a user is aware of the brand or not with a 1 or 0, respectively."
   ]
  },
  {
   "cell_type": "code",
   "execution_count": 18,
   "id": "817fe451",
   "metadata": {},
   "outputs": [
    {
     "data": {
      "text/html": [
       "<div>\n",
       "<style scoped>\n",
       "    .dataframe tbody tr th:only-of-type {\n",
       "        vertical-align: middle;\n",
       "    }\n",
       "\n",
       "    .dataframe tbody tr th {\n",
       "        vertical-align: top;\n",
       "    }\n",
       "\n",
       "    .dataframe thead th {\n",
       "        text-align: right;\n",
       "    }\n",
       "</style>\n",
       "<table border=\"1\" class=\"dataframe\">\n",
       "  <thead>\n",
       "    <tr style=\"text-align: right;\">\n",
       "      <th></th>\n",
       "      <th>aware</th>\n",
       "      <th>total</th>\n",
       "      <th>rate</th>\n",
       "    </tr>\n",
       "    <tr>\n",
       "      <th>experiment</th>\n",
       "      <th></th>\n",
       "      <th></th>\n",
       "      <th></th>\n",
       "    </tr>\n",
       "  </thead>\n",
       "  <tbody>\n",
       "    <tr>\n",
       "      <th>control</th>\n",
       "      <td>264</td>\n",
       "      <td>586</td>\n",
       "      <td>0.450512</td>\n",
       "    </tr>\n",
       "    <tr>\n",
       "      <th>exposed</th>\n",
       "      <td>308</td>\n",
       "      <td>657</td>\n",
       "      <td>0.468798</td>\n",
       "    </tr>\n",
       "  </tbody>\n",
       "</table>\n",
       "</div>"
      ],
      "text/plain": [
       "            aware  total      rate\n",
       "experiment                        \n",
       "control       264    586  0.450512\n",
       "exposed       308    657  0.468798"
      ]
     },
     "execution_count": 18,
     "metadata": {},
     "output_type": "execute_result"
    }
   ],
   "source": [
    "summary = clean_df.pivot_table(values='aware', index='experiment', aggfunc=np.sum)\n",
    "# add additional columns to the pivot table\n",
    "summary['total'] = clean_df.pivot_table(values='aware', index='experiment', aggfunc=lambda x: len(x))\n",
    "summary['rate'] = clean_df.pivot_table(values='aware', index='experiment')\n",
    "summary"
   ]
  },
  {
   "cell_type": "code",
   "execution_count": 19,
   "id": "a6bdcee7",
   "metadata": {},
   "outputs": [
    {
     "data": {
      "text/html": [
       "<div>\n",
       "<style scoped>\n",
       "    .dataframe tbody tr th:only-of-type {\n",
       "        vertical-align: middle;\n",
       "    }\n",
       "\n",
       "    .dataframe tbody tr th {\n",
       "        vertical-align: top;\n",
       "    }\n",
       "\n",
       "    .dataframe thead th {\n",
       "        text-align: right;\n",
       "    }\n",
       "</style>\n",
       "<table border=\"1\" class=\"dataframe\">\n",
       "  <thead>\n",
       "    <tr style=\"text-align: right;\">\n",
       "      <th></th>\n",
       "      <th>aware</th>\n",
       "      <th>not aware</th>\n",
       "      <th>total</th>\n",
       "      <th>rate</th>\n",
       "    </tr>\n",
       "    <tr>\n",
       "      <th>experiment</th>\n",
       "      <th></th>\n",
       "      <th></th>\n",
       "      <th></th>\n",
       "      <th></th>\n",
       "    </tr>\n",
       "  </thead>\n",
       "  <tbody>\n",
       "    <tr>\n",
       "      <th>control</th>\n",
       "      <td>264</td>\n",
       "      <td>322</td>\n",
       "      <td>586</td>\n",
       "      <td>0.450512</td>\n",
       "    </tr>\n",
       "    <tr>\n",
       "      <th>exposed</th>\n",
       "      <td>308</td>\n",
       "      <td>349</td>\n",
       "      <td>657</td>\n",
       "      <td>0.468798</td>\n",
       "    </tr>\n",
       "  </tbody>\n",
       "</table>\n",
       "</div>"
      ],
      "text/plain": [
       "            aware  not aware  total      rate\n",
       "experiment                                   \n",
       "control       264        322    586  0.450512\n",
       "exposed       308        349    657  0.468798"
      ]
     },
     "execution_count": 19,
     "metadata": {},
     "output_type": "execute_result"
    }
   ],
   "source": [
    "summary_df = clean_df.pivot_table( index='experiment', aggfunc='sum')\n",
    "summary_df['total'] = clean_df.pivot_table( index='experiment', aggfunc='count')\n",
    "summary_df['rate'] = clean_df.pivot_table( index='experiment')\n",
    "summary_df['not aware'] = summary_df['total'] - summary_df['aware']\n",
    "summary_df = summary_df.reindex(['aware', 'not aware', 'total', 'rate'], axis=1)\n",
    "summary_df"
   ]
  },
  {
   "cell_type": "markdown",
   "id": "415a5ba1",
   "metadata": {},
   "source": [
    "The sample sizes of the exposed group and control group are 657 and 586 respectively\n",
    "The number of conversions in the exposed group and control group is 308 and 264 respectively"
   ]
  },
  {
   "cell_type": "markdown",
   "id": "53cb1296",
   "metadata": {},
   "source": [
    "# Formulation of Null and Alternative Hypothesis"
   ]
  },
  {
   "cell_type": "markdown",
   "id": "e1a49a66",
   "metadata": {},
   "source": [
    "Here I will be formulating a null and an alternative hypothesis. The null hypothesis will state that there are no changes in conversion either with the new creative ad or with the dummy ad. The alternative hypothesis is what we wanted to confirm, ie the conversion rate is higher with the new creative ad than with the dummy one."
   ]
  },
  {
   "cell_type": "code",
   "execution_count": 10,
   "id": "91a0a101",
   "metadata": {},
   "outputs": [
    {
     "name": "stdout",
     "output_type": "stream",
     "text": [
      "The observed difference in the conversion rate between the exposed and the control group is 1.83%\n"
     ]
    }
   ],
   "source": [
    "# Sampling distribution under the null\n",
    "\n",
    "obs_diff = exposed.yes.mean() - control.yes.mean()\n",
    "obs_diff_form = '{0:.2f}%'.format(obs_diff*100)\n",
    "print('The observed difference in the conversion rate between the exposed and the control group is {}'.format(obs_diff_form))"
   ]
  },
  {
   "cell_type": "code",
   "execution_count": 26,
   "id": "17822443",
   "metadata": {},
   "outputs": [
    {
     "ename": "NameError",
     "evalue": "name 'exposed_converted' is not defined",
     "output_type": "error",
     "traceback": [
      "\u001b[0;31m---------------------------------------------------------------------------\u001b[0m",
      "\u001b[0;31mNameError\u001b[0m                                 Traceback (most recent call last)",
      "\u001b[0;32m/tmp/ipykernel_7902/2787482808.py\u001b[0m in \u001b[0;36m<module>\u001b[0;34m\u001b[0m\n\u001b[1;32m      1\u001b[0m \u001b[0;31m#storing number of conversions for exposed and control groups as numpy arrays\u001b[0m\u001b[0;34m\u001b[0m\u001b[0;34m\u001b[0m\u001b[0m\n\u001b[0;32m----> 2\u001b[0;31m \u001b[0mcount\u001b[0m \u001b[0;34m=\u001b[0m \u001b[0mnp\u001b[0m\u001b[0;34m.\u001b[0m\u001b[0marray\u001b[0m\u001b[0;34m(\u001b[0m\u001b[0;34m[\u001b[0m\u001b[0mexposed_converted\u001b[0m\u001b[0;34m.\u001b[0m\u001b[0mshape\u001b[0m\u001b[0;34m[\u001b[0m\u001b[0;36m0\u001b[0m\u001b[0;34m]\u001b[0m\u001b[0;34m,\u001b[0m \u001b[0mcontrol_converted\u001b[0m\u001b[0;34m.\u001b[0m\u001b[0mshape\u001b[0m\u001b[0;34m[\u001b[0m\u001b[0;36m0\u001b[0m\u001b[0;34m]\u001b[0m\u001b[0;34m]\u001b[0m\u001b[0;34m)\u001b[0m\u001b[0;34m\u001b[0m\u001b[0;34m\u001b[0m\u001b[0m\n\u001b[0m\u001b[1;32m      3\u001b[0m \u001b[0;31m#storing sample sizes of exposed and control group as numpy arrays\u001b[0m\u001b[0;34m\u001b[0m\u001b[0;34m\u001b[0m\u001b[0m\n\u001b[1;32m      4\u001b[0m \u001b[0mnobs\u001b[0m \u001b[0;34m=\u001b[0m \u001b[0mnp\u001b[0m\u001b[0;34m.\u001b[0m\u001b[0marray\u001b[0m\u001b[0;34m(\u001b[0m\u001b[0;34m[\u001b[0m\u001b[0mexposed\u001b[0m\u001b[0;34m.\u001b[0m\u001b[0mshape\u001b[0m\u001b[0;34m[\u001b[0m\u001b[0;36m0\u001b[0m\u001b[0;34m]\u001b[0m\u001b[0;34m,\u001b[0m \u001b[0mcontrol\u001b[0m\u001b[0;34m.\u001b[0m\u001b[0mshape\u001b[0m\u001b[0;34m[\u001b[0m\u001b[0;36m0\u001b[0m\u001b[0;34m]\u001b[0m\u001b[0;34m]\u001b[0m\u001b[0;34m)\u001b[0m\u001b[0;34m\u001b[0m\u001b[0;34m\u001b[0m\u001b[0m\n\u001b[1;32m      5\u001b[0m \u001b[0;31m#storing results of z test in variables\u001b[0m\u001b[0;34m\u001b[0m\u001b[0;34m\u001b[0m\u001b[0m\n",
      "\u001b[0;31mNameError\u001b[0m: name 'exposed_converted' is not defined"
     ]
    }
   ],
   "source": [
    "#storing number of conversions for exposed and control groups as numpy arrays\n",
    "count = np.array([exposed_converted.shape[0], control_converted.shape[0]])\n",
    "#storing sample sizes of exposed and control group as numpy arrays\n",
    "nobs = np.array([exposed.shape[0], control.shape[0]])\n",
    "#storing results of z test in variables\n",
    "stat, p_val = proportions_ztest(count, nobs, alternative = 'larger')\n",
    "p_form = '{0:.2f}%'.format(p_val*100)\n",
    "print('P-value is equal to {}'.format(p_form))"
   ]
  },
  {
   "cell_type": "code",
   "execution_count": null,
   "id": "1f2ecfbd",
   "metadata": {},
   "outputs": [],
   "source": []
  },
  {
   "cell_type": "code",
   "execution_count": null,
   "id": "ba95d440",
   "metadata": {},
   "outputs": [],
   "source": []
  },
  {
   "cell_type": "code",
   "execution_count": null,
   "id": "a12b9ea1",
   "metadata": {},
   "outputs": [],
   "source": []
  },
  {
   "cell_type": "code",
   "execution_count": null,
   "id": "7affc83d",
   "metadata": {},
   "outputs": [],
   "source": []
  },
  {
   "cell_type": "code",
   "execution_count": null,
   "id": "7cfd00f3",
   "metadata": {},
   "outputs": [],
   "source": []
  },
  {
   "cell_type": "code",
   "execution_count": null,
   "id": "2b584140",
   "metadata": {},
   "outputs": [],
   "source": []
  },
  {
   "cell_type": "code",
   "execution_count": null,
   "id": "6220e490",
   "metadata": {},
   "outputs": [],
   "source": []
  },
  {
   "cell_type": "code",
   "execution_count": null,
   "id": "10e7c141",
   "metadata": {},
   "outputs": [],
   "source": []
  },
  {
   "cell_type": "code",
   "execution_count": null,
   "id": "32ff889f",
   "metadata": {},
   "outputs": [],
   "source": []
  },
  {
   "cell_type": "code",
   "execution_count": null,
   "id": "639307c2",
   "metadata": {},
   "outputs": [],
   "source": []
  },
  {
   "cell_type": "code",
   "execution_count": null,
   "id": "d96b4407",
   "metadata": {},
   "outputs": [],
   "source": []
  },
  {
   "cell_type": "code",
   "execution_count": null,
   "id": "579a83fc",
   "metadata": {},
   "outputs": [],
   "source": []
  },
  {
   "cell_type": "code",
   "execution_count": null,
   "id": "fe8308f3",
   "metadata": {},
   "outputs": [],
   "source": []
  },
  {
   "cell_type": "code",
   "execution_count": null,
   "id": "8ada7e87",
   "metadata": {},
   "outputs": [],
   "source": []
  },
  {
   "cell_type": "code",
   "execution_count": null,
   "id": "6197e508",
   "metadata": {},
   "outputs": [],
   "source": []
  },
  {
   "cell_type": "code",
   "execution_count": null,
   "id": "d17e73e1",
   "metadata": {},
   "outputs": [],
   "source": []
  },
  {
   "cell_type": "code",
   "execution_count": null,
   "id": "61d8bbb7",
   "metadata": {},
   "outputs": [],
   "source": [
    "fig, ax = plt.subplots(figsize=(12,6))\n",
    "xA = np.linspace(-49, A_converted+50, 100)\n",
    "yA = scs.binom(A_total, p_A).pmf(xA)\n",
    "ax.bar(xA, yA, alpha=0.5)\n",
    "xB = np.linspace(B_converted-49, B_converted+50, 100)\n",
    "yB = scs.binom(B_total, p_B).pmf(xB)\n",
    "ax.bar(xB, yB, alpha=0.5)\n",
    "plt.xlabel('converted')\n",
    "plt.ylabel('probability')"
   ]
  },
  {
   "cell_type": "code",
   "execution_count": 53,
   "id": "d72114cc",
   "metadata": {},
   "outputs": [],
   "source": [
    "exp_rate = summary_df['rate']['exposed']\n",
    "cont_rate = summary_df['rate']['control']\n",
    "exp_aware = summary_df['aware']['exposed']\n",
    "cont_aware = summary_df['aware']['control']\n",
    "exp_total = summary_df['total']['exposed']\n",
    "cont_total = summary_df['total']['control']\n",
    "diff = exp_rate - cont_rate"
   ]
  },
  {
   "cell_type": "code",
   "execution_count": 56,
   "id": "47882b61",
   "metadata": {},
   "outputs": [
    {
     "data": {
      "image/png": "[encoded data removed]",
      "text/plain": [
       "<Figure size 864x432 with 1 Axes>"
      ]
     },
     "metadata": {
      "needs_background": "light"
     },
     "output_type": "display_data"
    }
   ],
   "source": [
    "fig, ax = plt.subplots(figsize=(12, 6))\n",
    "\n",
    "xC = np.linspace(cont_aware - 49, cont_aware + 50, 100)\n",
    "yC = scs.binom(cont_total, cont_rate).pmf(xC)\n",
    "ax.bar(xC, yC, alpha=0.5, linestyle='--')\n",
    "xE = np.linspace(exp_aware - 49, exp_aware + 50, 100)\n",
    "yE = scs.binom(exp_total , exp_rate).pmf(xE)\n",
    "ax.bar(xE, yE, alpha=0.5, linestyle='--')\n",
    "plt.xlabel('awareness')\n",
    "plt.ylabel('probability')\n",
    "plt.show()"
   ]
  },
  {
   "cell_type": "code",
   "execution_count": 57,
   "id": "16f68ec5",
   "metadata": {},
   "outputs": [
    {
     "data": {
      "text/html": [
       "<div>\n",
       "<style scoped>\n",
       "    .dataframe tbody tr th:only-of-type {\n",
       "        vertical-align: middle;\n",
       "    }\n",
       "\n",
       "    .dataframe tbody tr th {\n",
       "        vertical-align: top;\n",
       "    }\n",
       "\n",
       "    .dataframe thead th {\n",
       "        text-align: right;\n",
       "    }\n",
       "</style>\n",
       "<table border=\"1\" class=\"dataframe\">\n",
       "  <thead>\n",
       "    <tr style=\"text-align: right;\">\n",
       "      <th></th>\n",
       "      <th>aware</th>\n",
       "    </tr>\n",
       "  </thead>\n",
       "  <tbody>\n",
       "    <tr>\n",
       "      <th>count</th>\n",
       "      <td>1243.000000</td>\n",
       "    </tr>\n",
       "    <tr>\n",
       "      <th>mean</th>\n",
       "      <td>0.460177</td>\n",
       "    </tr>\n",
       "    <tr>\n",
       "      <th>std</th>\n",
       "      <td>0.498612</td>\n",
       "    </tr>\n",
       "    <tr>\n",
       "      <th>min</th>\n",
       "      <td>0.000000</td>\n",
       "    </tr>\n",
       "    <tr>\n",
       "      <th>25%</th>\n",
       "      <td>0.000000</td>\n",
       "    </tr>\n",
       "    <tr>\n",
       "      <th>50%</th>\n",
       "      <td>0.000000</td>\n",
       "    </tr>\n",
       "    <tr>\n",
       "      <th>75%</th>\n",
       "      <td>1.000000</td>\n",
       "    </tr>\n",
       "    <tr>\n",
       "      <th>max</th>\n",
       "      <td>1.000000</td>\n",
       "    </tr>\n",
       "  </tbody>\n",
       "</table>\n",
       "</div>"
      ],
      "text/plain": [
       "             aware\n",
       "count  1243.000000\n",
       "mean      0.460177\n",
       "std       0.498612\n",
       "min       0.000000\n",
       "25%       0.000000\n",
       "50%       0.000000\n",
       "75%       1.000000\n",
       "max       1.000000"
      ]
     },
     "execution_count": 57,
     "metadata": {},
     "output_type": "execute_result"
    }
   ],
   "source": [
    "clean_df.describe()"
   ]
  },
  {
   "cell_type": "code",
   "execution_count": 58,
   "id": "78dbdca6",
   "metadata": {},
   "outputs": [
    {
     "data": {
      "text/html": [
       "<div>\n",
       "<style scoped>\n",
       "    .dataframe tbody tr th:only-of-type {\n",
       "        vertical-align: middle;\n",
       "    }\n",
       "\n",
       "    .dataframe tbody tr th {\n",
       "        vertical-align: top;\n",
       "    }\n",
       "\n",
       "    .dataframe thead th {\n",
       "        text-align: right;\n",
       "    }\n",
       "</style>\n",
       "<table border=\"1\" class=\"dataframe\">\n",
       "  <thead>\n",
       "    <tr style=\"text-align: right;\">\n",
       "      <th></th>\n",
       "      <th>auction_id</th>\n",
       "      <th>experiment</th>\n",
       "      <th>date</th>\n",
       "      <th>hour</th>\n",
       "      <th>device_make</th>\n",
       "      <th>platform_os</th>\n",
       "      <th>browser</th>\n",
       "      <th>yes</th>\n",
       "      <th>no</th>\n",
       "    </tr>\n",
       "  </thead>\n",
       "  <tbody>\n",
       "    <tr>\n",
       "      <th>0</th>\n",
       "      <td>0008ef63-77a7-448b-bd1e-075f42c55e39</td>\n",
       "      <td>exposed</td>\n",
       "      <td>2020-07-10</td>\n",
       "      <td>8</td>\n",
       "      <td>Generic Smartphone</td>\n",
       "      <td>6</td>\n",
       "      <td>Chrome Mobile</td>\n",
       "      <td>0</td>\n",
       "      <td>0</td>\n",
       "    </tr>\n",
       "    <tr>\n",
       "      <th>1</th>\n",
       "      <td>000eabc5-17ce-4137-8efe-44734d914446</td>\n",
       "      <td>exposed</td>\n",
       "      <td>2020-07-07</td>\n",
       "      <td>10</td>\n",
       "      <td>Generic Smartphone</td>\n",
       "      <td>6</td>\n",
       "      <td>Chrome Mobile</td>\n",
       "      <td>0</td>\n",
       "      <td>0</td>\n",
       "    </tr>\n",
       "    <tr>\n",
       "      <th>2</th>\n",
       "      <td>0016d14a-ae18-4a02-a204-6ba53b52f2ed</td>\n",
       "      <td>exposed</td>\n",
       "      <td>2020-07-05</td>\n",
       "      <td>2</td>\n",
       "      <td>E5823</td>\n",
       "      <td>6</td>\n",
       "      <td>Chrome Mobile WebView</td>\n",
       "      <td>0</td>\n",
       "      <td>1</td>\n",
       "    </tr>\n",
       "    <tr>\n",
       "      <th>3</th>\n",
       "      <td>00187412-2932-4542-a8ef-3633901c98d9</td>\n",
       "      <td>control</td>\n",
       "      <td>2020-07-03</td>\n",
       "      <td>15</td>\n",
       "      <td>Samsung SM-A705FN</td>\n",
       "      <td>6</td>\n",
       "      <td>Facebook</td>\n",
       "      <td>0</td>\n",
       "      <td>0</td>\n",
       "    </tr>\n",
       "    <tr>\n",
       "      <th>4</th>\n",
       "      <td>001a7785-d3fe-4e11-a344-c8735acacc2c</td>\n",
       "      <td>control</td>\n",
       "      <td>2020-07-03</td>\n",
       "      <td>15</td>\n",
       "      <td>Generic Smartphone</td>\n",
       "      <td>6</td>\n",
       "      <td>Chrome Mobile</td>\n",
       "      <td>0</td>\n",
       "      <td>0</td>\n",
       "    </tr>\n",
       "    <tr>\n",
       "      <th>5</th>\n",
       "      <td>0027ce48-d3c6-4935-bb12-dfb5d5627857</td>\n",
       "      <td>control</td>\n",
       "      <td>2020-07-03</td>\n",
       "      <td>15</td>\n",
       "      <td>Samsung SM-G960F</td>\n",
       "      <td>6</td>\n",
       "      <td>Facebook</td>\n",
       "      <td>0</td>\n",
       "      <td>0</td>\n",
       "    </tr>\n",
       "    <tr>\n",
       "      <th>6</th>\n",
       "      <td>002e308b-1a07-49d6-8560-0fbcdcd71e4b</td>\n",
       "      <td>control</td>\n",
       "      <td>2020-07-03</td>\n",
       "      <td>15</td>\n",
       "      <td>Generic Smartphone</td>\n",
       "      <td>6</td>\n",
       "      <td>Chrome Mobile</td>\n",
       "      <td>0</td>\n",
       "      <td>0</td>\n",
       "    </tr>\n",
       "    <tr>\n",
       "      <th>7</th>\n",
       "      <td>00393fb9-ca32-40c0-bfcb-1bd83f319820</td>\n",
       "      <td>control</td>\n",
       "      <td>2020-07-09</td>\n",
       "      <td>5</td>\n",
       "      <td>Samsung SM-G973F</td>\n",
       "      <td>6</td>\n",
       "      <td>Facebook</td>\n",
       "      <td>0</td>\n",
       "      <td>0</td>\n",
       "    </tr>\n",
       "    <tr>\n",
       "      <th>8</th>\n",
       "      <td>004940f5-c642-417a-8fd2-c8e5d989f358</td>\n",
       "      <td>exposed</td>\n",
       "      <td>2020-07-04</td>\n",
       "      <td>0</td>\n",
       "      <td>Generic Smartphone</td>\n",
       "      <td>6</td>\n",
       "      <td>Chrome Mobile WebView</td>\n",
       "      <td>0</td>\n",
       "      <td>0</td>\n",
       "    </tr>\n",
       "    <tr>\n",
       "      <th>9</th>\n",
       "      <td>004c4cc9-f2ca-4df7-adc9-3d0c3c4f0342</td>\n",
       "      <td>control</td>\n",
       "      <td>2020-07-05</td>\n",
       "      <td>14</td>\n",
       "      <td>Generic Smartphone</td>\n",
       "      <td>6</td>\n",
       "      <td>Chrome Mobile</td>\n",
       "      <td>0</td>\n",
       "      <td>0</td>\n",
       "    </tr>\n",
       "  </tbody>\n",
       "</table>\n",
       "</div>"
      ],
      "text/plain": [
       "                             auction_id experiment        date  hour  \\\n",
       "0  0008ef63-77a7-448b-bd1e-075f42c55e39    exposed  2020-07-10     8   \n",
       "1  000eabc5-17ce-4137-8efe-44734d914446    exposed  2020-07-07    10   \n",
       "2  0016d14a-ae18-4a02-a204-6ba53b52f2ed    exposed  2020-07-05     2   \n",
       "3  00187412-2932-4542-a8ef-3633901c98d9    control  2020-07-03    15   \n",
       "4  001a7785-d3fe-4e11-a344-c8735acacc2c    control  2020-07-03    15   \n",
       "5  0027ce48-d3c6-4935-bb12-dfb5d5627857    control  2020-07-03    15   \n",
       "6  002e308b-1a07-49d6-8560-0fbcdcd71e4b    control  2020-07-03    15   \n",
       "7  00393fb9-ca32-40c0-bfcb-1bd83f319820    control  2020-07-09     5   \n",
       "8  004940f5-c642-417a-8fd2-c8e5d989f358    exposed  2020-07-04     0   \n",
       "9  004c4cc9-f2ca-4df7-adc9-3d0c3c4f0342    control  2020-07-05    14   \n",
       "\n",
       "          device_make  platform_os                browser  yes  no  \n",
       "0  Generic Smartphone            6          Chrome Mobile    0   0  \n",
       "1  Generic Smartphone            6          Chrome Mobile    0   0  \n",
       "2               E5823            6  Chrome Mobile WebView    0   1  \n",
       "3   Samsung SM-A705FN            6               Facebook    0   0  \n",
       "4  Generic Smartphone            6          Chrome Mobile    0   0  \n",
       "5    Samsung SM-G960F            6               Facebook    0   0  \n",
       "6  Generic Smartphone            6          Chrome Mobile    0   0  \n",
       "7    Samsung SM-G973F            6               Facebook    0   0  \n",
       "8  Generic Smartphone            6  Chrome Mobile WebView    0   0  \n",
       "9  Generic Smartphone            6          Chrome Mobile    0   0  "
      ]
     },
     "execution_count": 58,
     "metadata": {},
     "output_type": "execute_result"
    }
   ],
   "source": [
    "df.head(10)"
   ]
  },
  {
   "cell_type": "code",
   "execution_count": null,
   "id": "135f0ca9",
   "metadata": {},
   "outputs": [],
   "source": []
  }
 ],
 "metadata": {
  "kernelspec": {
   "display_name": "Python 3 (ipykernel)",
   "language": "python",
   "name": "python3"
  },
  "language_info": {
   "codemirror_mode": {
    "name": "ipython",
    "version": 3
   },
   "file_extension": ".py",
   "mimetype": "text/x-python",
   "name": "python",
   "nbconvert_exporter": "python",
   "pygments_lexer": "ipython3",
   "version": "3.9.7"
  }
 },
 "nbformat": 4,
 "nbformat_minor": 5
}
